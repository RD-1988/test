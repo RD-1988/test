{
 "cells": [
  {
   "cell_type": "code",
   "execution_count": null,
   "metadata": {
    "collapsed": true
   },
   "outputs": [],
   "source": [
    "# Exercise 1: Work with the person next to you to design \n",
    "# classes to manage the products, customers, and purchase \n",
    "# orders for an online book store such as amazon.com. \n",
    "# Outline the data attributes and useful methods for \n",
    "# each class. You can discuss and create the outline together. \n",
    "\n",
    "from datetime import date\n",
    "\n",
    "class Product(object):\n",
    "    p_id = 1\n",
    "    \n",
    "    def __init__(self,p_name,p_price):\n",
    "        self.name = p_name\n",
    "        self.price = p_price\n",
    "        self.id = p_id\n",
    "        self.brand = None\n",
    "        self.color = None\n",
    "        p_id +=1\n",
    "    \n",
    "    def set_brand(self,p_brand):\n",
    "        self.brand = p_brand\n",
    "    \n",
    "    def set_color(self,p_color):\n",
    "        self.brand = p_color\n",
    "    \n",
    "    def get_name(self):\n",
    "        return self.name\n",
    "    \n",
    "    def get_price(self):\n",
    "        return self.price\n",
    "    \n",
    "    def get_id(self):\n",
    "        return self.id\n",
    "    \n",
    "    def get_brand(self):\n",
    "        return self.brand\n",
    "    \n",
    "    def get_color(self):\n",
    "        return self.color\n",
    "\n",
    "class Customers(object):\n",
    "     c_id = 1\n",
    "     def __init__(self,c_name,c_gender):\n",
    "        self.name = c_name\n",
    "        self.gender = c_gender\n",
    "        self.id = c_id \n",
    "        self.age = None\n",
    "        c_id +=1\n",
    "        self.order_history = []\n",
    "         \n",
    "     def get_name(self):\n",
    "         return self.name\n",
    "     \n",
    "     def get_gender(self):\n",
    "         return self.gender\n",
    "     \n",
    "     def get_id(self):\n",
    "         return self.id\n",
    "     \n",
    "     def set_age(self,c_age):\n",
    "        self.age= c_age\n",
    "     \n",
    "     def get_age(self):\n",
    "         return self.age\n",
    "     \n",
    "     def get_order_history(self):\n",
    "         for i in self.order_history:\n",
    "             yield i\n",
    "         \n",
    "\n",
    "class Order(object):\n",
    "    \n",
    "    def __init__(self,c_name,p_name,p_quantity):\n",
    "        self.c_name = c_name\n",
    "        self.p_name = p_name\n",
    "        self.quantity = p_quantity \n",
    "        self.total_price = p_quantity * p_name.get_price()\n",
    "        self.order_time = date.today()\n",
    "        \n",
    "    def get_c_name(self):\n",
    "         return self.c_name\n",
    "    \n",
    "    def get_p_name(self):\n",
    "         return self.p_name\n",
    "    \n",
    "    def get_quantity(self):\n",
    "         return self.quantity\n",
    "    \n",
    "    def get_total_price(self):\n",
    "         return self.total_price\n",
    "    \n",
    "    def get_order_time(self):\n",
    "         return self.order_time\n",
    "    \n"
   ]
  },
  {
   "cell_type": "code",
   "execution_count": null,
   "outputs": [],
   "source": [
    "# Exercise 2: Create a new repository in your account and upload \n",
    "# the class hierarchy you created. Practice cloning locally, \n",
    "# making changes, and uploading the changed file to your remote \n",
    "# repository by creating a branch and opening a pull request. \n",
    "# (Note that in order for others to be able to upload files \n",
    "# to your repository, you need to grant them push access.)\n",
    "\n",
    "\n"
   ],
   "metadata": {
    "collapsed": false,
    "pycharm": {
     "name": "#%%\n"
    }
   }
  },
  {
   "cell_type": "code",
   "execution_count": null,
   "outputs": [],
   "source": [
    "# Exercise 3: Open a new issue in your partner's repository. \n",
    "# (Note that you don't need push access to open issues.)"
   ],
   "metadata": {
    "collapsed": false,
    "pycharm": {
     "name": "#%%\n"
    }
   }
  }
 ],
 "metadata": {
  "language_info": {
   "codemirror_mode": {
    "name": "ipython",
    "version": 2
   },
   "file_extension": ".py",
   "mimetype": "text/x-python",
   "name": "python",
   "nbconvert_exporter": "python",
   "pygments_lexer": "ipython2",
   "version": "2.7.6"
  },
  "kernelspec": {
   "name": "python3",
   "language": "python",
   "display_name": "Python 3"
  },
  "pycharm": {
   "stem_cell": {
    "cell_type": "raw",
    "source": [],
    "metadata": {
     "collapsed": false
    }
   }
  }
 },
 "nbformat": 4,
 "nbformat_minor": 0
}